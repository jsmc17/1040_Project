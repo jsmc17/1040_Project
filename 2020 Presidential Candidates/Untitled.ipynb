{
 "cells": [
  {
   "cell_type": "code",
   "execution_count": 1,
   "metadata": {},
   "outputs": [],
   "source": [
    "import pandas as pd"
   ]
  },
  {
   "cell_type": "code",
   "execution_count": 21,
   "metadata": {},
   "outputs": [],
   "source": [
    "from tabulate import tabulate"
   ]
  },
  {
   "cell_type": "code",
   "execution_count": 36,
   "metadata": {},
   "outputs": [],
   "source": [
    "df = pd.read_excel('.All Candidates.xlsx').dropna()"
   ]
  },
  {
   "cell_type": "code",
   "execution_count": 37,
   "metadata": {},
   "outputs": [],
   "source": [
    "df.set_index('Unnamed: 0', inplace = True)"
   ]
  },
  {
   "cell_type": "code",
   "execution_count": 38,
   "metadata": {},
   "outputs": [],
   "source": [
    "df_subset = df[ df.index.isin(['Income', ' W-2 Wages', 'Business Income or Loss' , 'Rental, real estate, partnership from SCH E', 'Total Income', 'Gifts to Charity', 'Tax', 'On Total Tax'])]"
   ]
  },
  {
   "cell_type": "code",
   "execution_count": 39,
   "metadata": {},
   "outputs": [
    {
     "data": {
      "text/html": [
       "<div>\n",
       "<style scoped>\n",
       "    .dataframe tbody tr th:only-of-type {\n",
       "        vertical-align: middle;\n",
       "    }\n",
       "\n",
       "    .dataframe tbody tr th {\n",
       "        vertical-align: top;\n",
       "    }\n",
       "\n",
       "    .dataframe thead th {\n",
       "        text-align: right;\n",
       "    }\n",
       "</style>\n",
       "<table border=\"1\" class=\"dataframe\">\n",
       "  <thead>\n",
       "    <tr style=\"text-align: right;\">\n",
       "      <th>Unnamed: 0</th>\n",
       "      <th>Income</th>\n",
       "      <th>Business Income or Loss</th>\n",
       "      <th>Rental, real estate, partnership from SCH E</th>\n",
       "      <th>Total Income</th>\n",
       "      <th>Gifts to Charity</th>\n",
       "      <th>Tax</th>\n",
       "      <th>On Total Tax</th>\n",
       "    </tr>\n",
       "  </thead>\n",
       "  <tbody>\n",
       "    <tr>\n",
       "      <th>Joe Biden</th>\n",
       "      <td>1242716.0</td>\n",
       "      <td>1596.0</td>\n",
       "      <td>3236764.0</td>\n",
       "      <td>4580459.0</td>\n",
       "      <td>-275796.0</td>\n",
       "      <td>1517831</td>\n",
       "      <td>0.358222</td>\n",
       "    </tr>\n",
       "    <tr>\n",
       "      <th>Kamala Harris</th>\n",
       "      <td>159648.0</td>\n",
       "      <td>320125.0</td>\n",
       "      <td>1548315.0</td>\n",
       "      <td>2043967.0</td>\n",
       "      <td>-27259.0</td>\n",
       "      <td>611964</td>\n",
       "      <td>0.383657</td>\n",
       "    </tr>\n",
       "    <tr>\n",
       "      <th>Elizabeth Warren</th>\n",
       "      <td>584840.0</td>\n",
       "      <td>323902.0</td>\n",
       "      <td>0.0</td>\n",
       "      <td>905742.0</td>\n",
       "      <td>-50128.0</td>\n",
       "      <td>230068</td>\n",
       "      <td>0.293749</td>\n",
       "    </tr>\n",
       "    <tr>\n",
       "      <th>Bernie Sanders</th>\n",
       "      <td>183501.0</td>\n",
       "      <td>382920.0</td>\n",
       "      <td>0.0</td>\n",
       "      <td>566421.0</td>\n",
       "      <td>-18950.0</td>\n",
       "      <td>133214</td>\n",
       "      <td>0.280716</td>\n",
       "    </tr>\n",
       "    <tr>\n",
       "      <th>Amy Klobuchar</th>\n",
       "      <td>301313.0</td>\n",
       "      <td>25908.0</td>\n",
       "      <td>0.0</td>\n",
       "      <td>338483.0</td>\n",
       "      <td>-6602.0</td>\n",
       "      <td>63968</td>\n",
       "      <td>0.209878</td>\n",
       "    </tr>\n",
       "    <tr>\n",
       "      <th>Tim Ryan</th>\n",
       "      <td>219163.0</td>\n",
       "      <td>0.0</td>\n",
       "      <td>843.0</td>\n",
       "      <td>221004.0</td>\n",
       "      <td>0.0</td>\n",
       "      <td>35799</td>\n",
       "      <td>0.159793</td>\n",
       "    </tr>\n",
       "    <tr>\n",
       "      <th>Jay Inslee</th>\n",
       "      <td>205900.0</td>\n",
       "      <td>0.0</td>\n",
       "      <td>12.0</td>\n",
       "      <td>202912.0</td>\n",
       "      <td>-8295.0</td>\n",
       "      <td>29905</td>\n",
       "      <td>0.173674</td>\n",
       "    </tr>\n",
       "    <tr>\n",
       "      <th>Kristen Gilldebrand</th>\n",
       "      <td>167753.0</td>\n",
       "      <td>50000.0</td>\n",
       "      <td>0.0</td>\n",
       "      <td>214753.0</td>\n",
       "      <td>0.0</td>\n",
       "      <td>31831</td>\n",
       "      <td>0.161861</td>\n",
       "    </tr>\n",
       "    <tr>\n",
       "      <th>Cory Booker</th>\n",
       "      <td>152715.0</td>\n",
       "      <td>0.0</td>\n",
       "      <td>0.0</td>\n",
       "      <td>152715.0</td>\n",
       "      <td>-24000.0</td>\n",
       "      <td>22781</td>\n",
       "      <td>0.191897</td>\n",
       "    </tr>\n",
       "    <tr>\n",
       "      <th>Pete Buttigeg</th>\n",
       "      <td>152805.0</td>\n",
       "      <td>65.0</td>\n",
       "      <td>0.0</td>\n",
       "      <td>152643.0</td>\n",
       "      <td>0.0</td>\n",
       "      <td>20135</td>\n",
       "      <td>0.156541</td>\n",
       "    </tr>\n",
       "    <tr>\n",
       "      <th>All Candidates</th>\n",
       "      <td>3370354.0</td>\n",
       "      <td>1104516.0</td>\n",
       "      <td>4785934.0</td>\n",
       "      <td>9379099.0</td>\n",
       "      <td>-411030.0</td>\n",
       "      <td>2697500</td>\n",
       "      <td>0.329613</td>\n",
       "    </tr>\n",
       "  </tbody>\n",
       "</table>\n",
       "</div>"
      ],
      "text/plain": [
       "Unnamed: 0              Income  Business Income or Loss  \\\n",
       "Joe Biden            1242716.0                   1596.0   \n",
       "Kamala Harris         159648.0                 320125.0   \n",
       "Elizabeth Warren      584840.0                 323902.0   \n",
       "Bernie Sanders        183501.0                 382920.0   \n",
       "Amy Klobuchar         301313.0                  25908.0   \n",
       "Tim Ryan              219163.0                      0.0   \n",
       "Jay Inslee            205900.0                      0.0   \n",
       "Kristen Gilldebrand   167753.0                  50000.0   \n",
       "Cory Booker           152715.0                      0.0   \n",
       "Pete Buttigeg         152805.0                     65.0   \n",
       "All Candidates       3370354.0                1104516.0   \n",
       "\n",
       "Unnamed: 0           Rental, real estate, partnership from SCH E  \\\n",
       "Joe Biden                                              3236764.0   \n",
       "Kamala Harris                                          1548315.0   \n",
       "Elizabeth Warren                                             0.0   \n",
       "Bernie Sanders                                               0.0   \n",
       "Amy Klobuchar                                                0.0   \n",
       "Tim Ryan                                                   843.0   \n",
       "Jay Inslee                                                  12.0   \n",
       "Kristen Gilldebrand                                          0.0   \n",
       "Cory Booker                                                  0.0   \n",
       "Pete Buttigeg                                                0.0   \n",
       "All Candidates                                         4785934.0   \n",
       "\n",
       "Unnamed: 0           Total Income  Gifts to Charity      Tax  On Total Tax  \n",
       "Joe Biden               4580459.0         -275796.0  1517831      0.358222  \n",
       "Kamala Harris           2043967.0          -27259.0   611964      0.383657  \n",
       "Elizabeth Warren         905742.0          -50128.0   230068      0.293749  \n",
       "Bernie Sanders           566421.0          -18950.0   133214      0.280716  \n",
       "Amy Klobuchar            338483.0           -6602.0    63968      0.209878  \n",
       "Tim Ryan                 221004.0               0.0    35799      0.159793  \n",
       "Jay Inslee               202912.0           -8295.0    29905      0.173674  \n",
       "Kristen Gilldebrand      214753.0               0.0    31831      0.161861  \n",
       "Cory Booker              152715.0          -24000.0    22781      0.191897  \n",
       "Pete Buttigeg            152643.0               0.0    20135      0.156541  \n",
       "All Candidates          9379099.0         -411030.0  2697500      0.329613  "
      ]
     },
     "execution_count": 39,
     "metadata": {},
     "output_type": "execute_result"
    }
   ],
   "source": [
    "df_subset = df_subset.T\n",
    "df_subset['Tax'] = df_subset['Tax'].astype('int')\n",
    "df_subset"
   ]
  },
  {
   "cell_type": "code",
   "execution_count": 40,
   "metadata": {},
   "outputs": [
    {
     "name": "stdout",
     "output_type": "stream",
     "text": [
      "|                     |           Income |   Business Income or Loss |   Rental, real estate, partnership from SCH E |     Total Income |   Gifts to Charity |              Tax |   On Total Tax |\n",
      "|:--------------------|-----------------:|--------------------------:|----------------------------------------------:|-----------------:|-------------------:|-----------------:|---------------:|\n",
      "| Joe Biden           |      1.24272e+06 |            1596           |                                   3.23676e+06 |      4.58046e+06 |            -275796 |      1.51783e+06 |       0.358222 |\n",
      "| Kamala Harris       | 159648           |          320125           |                                   1.54832e+06 |      2.04397e+06 |             -27259 | 611964           |       0.383657 |\n",
      "| Elizabeth Warren    | 584840           |          323902           |                                   0           | 905742           |             -50128 | 230068           |       0.293749 |\n",
      "| Bernie Sanders      | 183501           |          382920           |                                   0           | 566421           |             -18950 | 133214           |       0.280716 |\n",
      "| Amy Klobuchar       | 301313           |           25908           |                                   0           | 338483           |              -6602 |  63968           |       0.209878 |\n",
      "| Tim Ryan            | 219163           |               0           |                                 843           | 221004           |                  0 |  35799           |       0.159793 |\n",
      "| Jay Inslee          | 205900           |               0           |                                  12           | 202912           |              -8295 |  29905           |       0.173674 |\n",
      "| Kristen Gilldebrand | 167753           |           50000           |                                   0           | 214753           |                  0 |  31831           |       0.161861 |\n",
      "| Cory Booker         | 152715           |               0           |                                   0           | 152715           |             -24000 |  22781           |       0.191897 |\n",
      "| Pete Buttigeg       | 152805           |              65           |                                   0           | 152643           |                  0 |  20135           |       0.156541 |\n",
      "| All Candidates      |      3.37035e+06 |               1.10452e+06 |                                   4.78593e+06 |      9.3791e+06  |            -411030 |      2.6975e+06  |       0.329613 |\n"
     ]
    }
   ],
   "source": [
    "df_subset.to_markdown()\n",
    "\n",
    "print(tabulate(df_subset, tablefmt = \"pipe\", headers = \"keys\"))"
   ]
  },
  {
   "cell_type": "code",
   "execution_count": 8,
   "metadata": {},
   "outputs": [
    {
     "name": "stdout",
     "output_type": "stream",
     "text": [
      "Collecting tabulate\n",
      "  Downloading tabulate-0.8.9-py3-none-any.whl (25 kB)\n",
      "Installing collected packages: tabulate\n",
      "Successfully installed tabulate-0.8.9\n"
     ]
    }
   ],
   "source": [
    "!pip install tabulate"
   ]
  },
  {
   "cell_type": "code",
   "execution_count": null,
   "metadata": {},
   "outputs": [],
   "source": []
  }
 ],
 "metadata": {
  "kernelspec": {
   "display_name": "Python 3",
   "language": "python",
   "name": "python3"
  },
  "language_info": {
   "codemirror_mode": {
    "name": "ipython",
    "version": 3
   },
   "file_extension": ".py",
   "mimetype": "text/x-python",
   "name": "python",
   "nbconvert_exporter": "python",
   "pygments_lexer": "ipython3",
   "version": "3.8.3"
  }
 },
 "nbformat": 4,
 "nbformat_minor": 4
}
